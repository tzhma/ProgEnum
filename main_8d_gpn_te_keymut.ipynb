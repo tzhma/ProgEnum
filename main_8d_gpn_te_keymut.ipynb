{
 "cells": [
  {
   "cell_type": "code",
   "execution_count": 47,
   "metadata": {},
   "outputs": [
    {
     "data": {
      "text/plain": [
       "1524"
      ]
     },
     "execution_count": 47,
     "metadata": {},
     "output_type": "execute_result"
    }
   ],
   "source": [
    "import numpy as np\n",
    "import matplotlib.pyplot as plt\n",
    "import pickle\n",
    "import os\n",
    "import sys\n",
    "import warnings\n",
    "warnings.filterwarnings('ignore')\n",
    "import time\n",
    "from itertools import permutations, combinations, product, islice\n",
    "import pandas as pd\n",
    "\n",
    "\n",
    "## LOAD\n",
    "df_bte = pd.read_pickle('data/df_gpn_pte')\n",
    "df_te = pd.read_pickle('data/df_gpn')\n",
    "simprog_arr = pickle.load(open('data/df_gpn_simprog_arr', 'rb'))\n",
    "tar_list = df_pte['target'].values.tolist()\n",
    "\n",
    "\n",
    "## RUN: append pp_sim for computing num_keymut\n",
    "pp_sim_list = []\n",
    "for tar, src in df_pte[['target', 'source']].values:\n",
    "    i_tar = tar_list.index(tar)\n",
    "    i_src = tar_list.index(src)\n",
    "    pp_sim = simprog_arr[i_tar, i_src]\n",
    "    pp_sim_list.append(pp_sim)\n",
    "df_te['pp_sim'] = pp_sim_list\n",
    "df_te[['target', 'source', 'eR', 'eR_source', 'progsize','d2enumDB', 'id_unique', 'num_outedge', 'id','if_leaf', 'ecc', 'num_mut', 'pp_sim']].to_csv('gephi/df_gpn_te.csv', index=False)\n",
    "\n",
    "\n",
    "## PRINT: num_keymut\n",
    "len(df_te[df_te['pp_sim']<10])"
   ]
  }
 ],
 "metadata": {
  "kernelspec": {
   "display_name": "Python 3",
   "language": "python",
   "name": "python3"
  },
  "language_info": {
   "codemirror_mode": {
    "name": "ipython",
    "version": 3
   },
   "file_extension": ".py",
   "mimetype": "text/x-python",
   "name": "python",
   "nbconvert_exporter": "python",
   "pygments_lexer": "ipython3",
   "version": "3.9.16"
  }
 },
 "nbformat": 4,
 "nbformat_minor": 2
}
