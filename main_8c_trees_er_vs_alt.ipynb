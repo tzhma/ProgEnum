{
 "cells": [
  {
   "cell_type": "code",
   "execution_count": 1,
   "metadata": {},
   "outputs": [],
   "source": [
    "import numpy as np\n",
    "import matplotlib.pyplot as plt\n",
    "import pickle\n",
    "import os\n",
    "import sys\n",
    "import warnings\n",
    "warnings.filterwarnings('ignore')\n",
    "import time\n",
    "from itertools import permutations, combinations, product, islice\n",
    "import pandas as pd\n",
    "from core_enum import fl"
   ]
  },
  {
   "cell_type": "code",
   "execution_count": 2,
   "metadata": {},
   "outputs": [],
   "source": [
    "## append eR_clip for plotting 4-state tree (gephi, alt) \n",
    "df_alt_5108 = pd.read_pickle('data/df_pte_5108_alt')\n",
    "eR_mean, eR_std = df_alt_5108['eR'].values.mean(), df_alt_5108['eR'].values.std()\n",
    "df_alt_5108['eR_clip'] = np.clip(df_alt_5108['eR'].values, eR_mean-2*eR_std, eR_mean+2*eR_std)\n",
    "df_alt_5108.to_pickle('data/df_pte_5108_alt')\n",
    "df_alt_5108[['target', 'source', 'd_hist', 'eR', 'eR_source', 'progsize',\n",
    "       'd2enumDB', 'id_unique', 'num_outedge', 'id', 'eR_clip']].to_csv('gephi/df_pte_5108_alt.csv', index=False)"
   ]
  },
  {
   "cell_type": "code",
   "execution_count": 3,
   "metadata": {},
   "outputs": [],
   "source": [
    "## append eR_clip for plotting 4-state tree (gephi, eR) \n",
    "df_er_5108 = pd.read_pickle('data/df_pte_5108')\n",
    "eR_mean, eR_std = df_er_5108['eR'].values.mean(), df_er_5108['eR'].values.std()\n",
    "df_er_5108['eR_clip'] = np.clip(df_er_5108['eR'].values, eR_mean-2*eR_std, eR_mean+2*eR_std)\n",
    "df_er_5108.to_pickle('data/df_pte_5108_er')\n",
    "df_er_5108[['target', 'source', 'd_hist', 'eR', 'eR_source', 'progsize','d2enumDB', 'id_unique', 'num_outedge', 'id', 'eR_clip']].to_csv('gephi/df_pte_5108_er.csv', index=False)"
   ]
  },
  {
   "cell_type": "code",
   "execution_count": 5,
   "metadata": {},
   "outputs": [
    {
     "data": {
      "text/plain": [
       "(4208, 607)"
      ]
     },
     "execution_count": 5,
     "metadata": {},
     "output_type": "execute_result"
    }
   ],
   "source": [
    "## LOAD\n",
    "df_alt_branch = pd.read_pickle('data/df_pte_268536_alt_branch')\n",
    "\n",
    "## RUN: count alt-gpn\n",
    "alt_thres = .37\n",
    "tar_list = df_alt_branch[df_alt_branch['eR']<alt_thres]['target'].values\n",
    "tar_all_list = sorted(set(fl(df_alt_branch.loc[tar_list, 'branch'])))\n",
    "tar_conn_list = [x for x in tar_all_list if x not in tar_list]\n",
    "\n",
    "## df_alt_branch\n",
    "df_gpn_alt = df_alt_branch.loc[tar_all_list]\n",
    "# df_gpn_alt.to_csv('gephi/df_gpn_alt.csv', index=False)\n",
    "\n",
    "## count\n",
    "n_all_alt = len(df_gpn_alt)\n",
    "n_good_alt = len(df_gpn_alt[df_gpn_alt['eR']<alt_thres])\n",
    "n_good_alt, n_all_alt-n_good_alt"
   ]
  },
  {
   "cell_type": "code",
   "execution_count": 6,
   "metadata": {},
   "outputs": [],
   "source": [
    "## rTE (gephi, alt)\n",
    "df_rte = pd.read_pickle('data/df_rpte_268536_alt')\n",
    "#\n",
    "uni_gpn = df_gpn_alt['id_unique'].values\n",
    "uni_gpn_conn = df_gpn_alt[df_gpn_alt['eR']>alt_thres]['id_unique'].values\n",
    "#\n",
    "df_rte['if_conn'] = [(len(set(x).intersection(set(uni_gpn_conn)))>0)*1 for x in df_rte['unique_ids']]\n",
    "df_rte['if_gpn'] = [(len(set(x).intersection(set(uni_gpn)))>0)*1 for x in df_rte['unique_ids']]\n",
    "df_rte.to_csv('gephi/df_rte_alt.csv', index=False)"
   ]
  }
 ],
 "metadata": {
  "kernelspec": {
   "display_name": "Python 3",
   "language": "python",
   "name": "python3"
  },
  "language_info": {
   "codemirror_mode": {
    "name": "ipython",
    "version": 3
   },
   "file_extension": ".py",
   "mimetype": "text/x-python",
   "name": "python",
   "nbconvert_exporter": "python",
   "pygments_lexer": "ipython3",
   "version": "3.9.16"
  }
 },
 "nbformat": 4,
 "nbformat_minor": 2
}
