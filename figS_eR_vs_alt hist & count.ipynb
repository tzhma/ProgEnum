{
 "cells": [
  {
   "cell_type": "code",
   "execution_count": 1,
   "metadata": {},
   "outputs": [
    {
     "data": {
      "image/png": "[encoded data removed]",
      "text/plain": [
       "<Figure size 640x480 with 1 Axes>"
      ]
     },
     "metadata": {},
     "output_type": "display_data"
    }
   ],
   "source": [
    "import numpy as np\n",
    "import matplotlib.pyplot as plt\n",
    "import pickle\n",
    "import os\n",
    "import sys\n",
    "import warnings\n",
    "warnings.filterwarnings('ignore')\n",
    "import time\n",
    "from itertools import permutations, combinations, product, islice\n",
    "import pandas as pd\n",
    "from core_enum import fl\n",
    "\n",
    "\n",
    "## LOAD\n",
    "df_er = pd.read_pickle('data/df_pte_268533')\n",
    "df_alt = pd.read_pickle('data/df_pte_268536_alt')\n",
    "df_alt_branch = pd.read_pickle('data/df_pte_268536_alt_branch')\n",
    "#\n",
    "deR_alt = df_alt['eR'].values - df_alt['eR_source'].values\n",
    "# zscores_alt = (deR_alt-deR_alt.mean()) / deR_alt.std()\n",
    "zscores_alt = deR_alt / df_alt['eR'].std()\n",
    "#\n",
    "deR = df_er['eR'].values - df_er.loc[df_er['source'].values, 'eR']\n",
    "# zscores_eR = (deR-deR.mean()) / deR.std()\n",
    "zscores_eR = deR / df_er['eR'].std()\n",
    "\n",
    "## PLOT: zscore hist\n",
    "plt.hist(zscores_eR, bins=np.linspace(-5,5,50), alpha=.5, density=True, label='eR - parent', color='gray')\n",
    "plt.hist(zscores_alt, bins=np.linspace(-5,5,50), alpha=.5, density=True, label='wiring - parent', color='tab:blue')\n",
    "plt.xlabel('z-score')\n",
    "plt.legend()\n",
    "plt.savefig('fig/resub_er_vs_alt_zscore.pdf', dpi=300)"
   ]
  },
  {
   "cell_type": "code",
   "execution_count": 24,
   "metadata": {},
   "outputs": [
    {
     "data": {
      "text/plain": [
       "(4208, 607)"
      ]
     },
     "execution_count": 24,
     "metadata": {},
     "output_type": "execute_result"
    }
   ],
   "source": [
    "## RUN: count alt-gpn\n",
    "alt_thres = .37\n",
    "tar_list = df_alt_branch[df_alt_branch['eR']<alt_thres]['target'].values\n",
    "tar_all_list = sorted(set(fl(df_alt_branch.loc[tar_list, 'branch'])))\n",
    "tar_conn_list = [x for x in tar_all_list if x not in tar_list]\n",
    "\n",
    "## df_alt_branch\n",
    "df_gpn_alt = df_alt_branch.loc[tar_all_list]\n",
    "# df_gpn_alt.to_csv('gephi/df_gpn_alt.csv', index=False)\n",
    "\n",
    "## count\n",
    "n_all_alt = len(df_gpn_alt)\n",
    "n_good_alt = len(df_gpn_alt[df_gpn_alt['eR']<alt_thres])\n",
    "n_good_alt, n_all_alt-n_good_alt"
   ]
  },
  {
   "cell_type": "code",
   "execution_count": 27,
   "metadata": {},
   "outputs": [
    {
     "data": {
      "text/plain": [
       "(4230, 262)"
      ]
     },
     "execution_count": 27,
     "metadata": {},
     "output_type": "execute_result"
    }
   ],
   "source": [
    "## RUN: count eR-gpn\n",
    "df_gpn = pd.read_pickle('data/df_gpn')\n",
    "eR_thres = df_gpn.loc[0, 'eR']\n",
    "\n",
    "## count\n",
    "n_all_eR = len(df_gpn)\n",
    "n_good_eR = len(df_gpn[df_gpn['eR']>=eR_thres])\n",
    "n_good_eR, n_all_eR-n_good_eR"
   ]
  }
 ],
 "metadata": {
  "kernelspec": {
   "display_name": "Python 3",
   "language": "python",
   "name": "python3"
  },
  "language_info": {
   "codemirror_mode": {
    "name": "ipython",
    "version": 3
   },
   "file_extension": ".py",
   "mimetype": "text/x-python",
   "name": "python",
   "nbconvert_exporter": "python",
   "pygments_lexer": "ipython3",
   "version": "3.9.16"
  }
 },
 "nbformat": 4,
 "nbformat_minor": 2
}
